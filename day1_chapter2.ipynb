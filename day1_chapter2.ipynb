{
 "cells": [
  {
   "cell_type": "code",
   "execution_count": 1,
   "id": "3c54d328-6af5-4732-ab6e-f9b97e63ab14",
   "metadata": {
    "scrolled": true
   },
   "outputs": [
    {
     "name": "stdout",
     "output_type": "stream",
     "text": [
      "Defaulting to user installation because normal site-packages is not writeable\n",
      "Looking in indexes: https://repo.kakao.com/pypi/simple/, http://kakaobrain-pypi.dev.9rum.cc/, https://pypi.org/simple\n",
      "Collecting ollama\n",
      "  Downloading ollama-0.2.1-py3-none-any.whl.metadata (4.2 kB)\n",
      "Requirement already satisfied: httpx<0.28.0,>=0.27.0 in /home/bc-user/.local/lib/python3.10/site-packages (from ollama) (0.27.0)\n",
      "Requirement already satisfied: anyio in /home/bc-user/.local/lib/python3.10/site-packages (from httpx<0.28.0,>=0.27.0->ollama) (3.7.1)\n",
      "Requirement already satisfied: certifi in /opt/conda/lib/python3.10/site-packages (from httpx<0.28.0,>=0.27.0->ollama) (2023.7.22)\n",
      "Requirement already satisfied: httpcore==1.* in /home/bc-user/.local/lib/python3.10/site-packages (from httpx<0.28.0,>=0.27.0->ollama) (1.0.5)\n",
      "Requirement already satisfied: idna in /opt/conda/lib/python3.10/site-packages (from httpx<0.28.0,>=0.27.0->ollama) (3.4)\n",
      "Requirement already satisfied: sniffio in /opt/conda/lib/python3.10/site-packages (from httpx<0.28.0,>=0.27.0->ollama) (1.3.0)\n",
      "Requirement already satisfied: h11<0.15,>=0.13 in /home/bc-user/.local/lib/python3.10/site-packages (from httpcore==1.*->httpx<0.28.0,>=0.27.0->ollama) (0.14.0)\n",
      "Requirement already satisfied: exceptiongroup in /opt/conda/lib/python3.10/site-packages (from anyio->httpx<0.28.0,>=0.27.0->ollama) (1.0.4)\n",
      "Downloading ollama-0.2.1-py3-none-any.whl (9.7 kB)\n",
      "Installing collected packages: ollama\n",
      "Successfully installed ollama-0.2.1\n"
     ]
    }
   ],
   "source": [
    "!pip install ollama"
   ]
  },
  {
   "cell_type": "code",
   "execution_count": 1,
   "id": "db0994f5-b896-4e4b-b2dd-0573dca89b23",
   "metadata": {},
   "outputs": [
    {
     "name": "stdout",
     "output_type": "stream",
     "text": [
      " The sky appears blue due to a phenomenon called Rayleigh scattering. As sunlight reaches Earth's atmosphere, it encounters molecules and small particles present in air. These molecules and particles scatter light in all directions because they are smaller than the wavelength of visible light.\n",
      "\n",
      "Sunlight is made up of different colors with varying wavelengths, ranging from red (longest) to violet (shortest). When sunlight interacts with Earth's atmosphere, shorter wavelength blue and violet light gets scattered more than the longer wavelength red and orange light. This scattering causes a predominance of blue light to reach our eyes when looking at the sky.\n",
      "\n",
      "However, many people perceive the sky as being blue rather than violet because human eyes are less sensitive to violet light compared to blue light. Additionally, sunlight's intensity is slightly higher in the blue region compared to the violet side of its spectrum. This combination contributes to our experience of seeing a predominantly blue sky during the daytime.\n",
      "\n",
      "In summary, Rayleigh scattering caused by molecules and particles in Earth's atmosphere scatters shorter wavelength light more efficiently, resulting in the appearance of a blue sky.\n"
     ]
    }
   ],
   "source": [
    "# ollama-python 테스트해보기\n",
    "import ollama\n",
    "response = ollama.chat(model='phi3', messages=[\n",
    "  {\n",
    "    'role': 'user',\n",
    "    'content': 'Why is the sky blue?',\n",
    "  },\n",
    "])\n",
    "print(response['message']['content'])"
   ]
  },
  {
   "cell_type": "code",
   "execution_count": 2,
   "id": "6be4a7d7-fe4d-43f7-aea0-90d91ca118c5",
   "metadata": {},
   "outputs": [],
   "source": [
    "# 수학 선생님과 역사 선생님 구분하기\n",
    "# 5번 문제\n",
    "system_prompt = \"You know two teachers. you must select one teacher! for example, math request is 'math teacher' and history request is 'history teacher'\"\n",
    "system_prompt2 = \"A math teacher is someone who keeps his answers simple, talks in formulas, and communicates facts in short sentences. He can only answer math questions.\"\n",
    "system_prompt3 = \"A history teacher can only solve history problems and likes to go on and on about comparisons to other histories. A history teacher can't solve math problems.\"\n",
    "system_prompt4 = \"Listen to the questions and tell me which of the two teachers you think would be better to answer.\"\n",
    "system_prompt5 = \"If you think your math teacher would respond well, say 'math teacher'\"\n",
    "system_prompt = system_prompt + \"\\n\\n\" + system_prompt2 + \"\\n\\n\" + system_prompt3 + \"\\n\\n\" + system_prompt4 + \"\\n\\n\" + system_prompt5\n",
    "zero_shot_prompt = \"\"\n",
    "one_shot_prompt = \"What was the Civil War? = History Teacher\"\n",
    "two_shot_prompt = \"What year did the Korean War begin? = History Teacher\"\n",
    "three_shot_prompt = \"What is the value of x when 2x + 5 = 15? = Math Teacher\""
   ]
  },
  {
   "cell_type": "code",
   "execution_count": 3,
   "id": "7929c899-a9ba-40d5-b0b4-e1efe92234ba",
   "metadata": {},
   "outputs": [
    {
     "name": "stdout",
     "output_type": "stream",
     "text": [
      "Math teacher!\n"
     ]
    }
   ],
   "source": [
    "response = ollama.chat(model='llama3', messages=[\n",
    "  { \"role\": \"system\", \"content\": system_prompt},\n",
    "#  { \"role\": \"system\", \"content\": system_prompt2},\n",
    "#  { \"role\": \"system\", \"content\": system_prompt3},\n",
    "\n",
    "#  { \"role\": \"system\", \"content\": system_prompt4},\n",
    "  {\n",
    "    'role': 'user',\n",
    "    'content': 'What is the total of the triangle interior angles?',\n",
    "  }\n",
    "])\n",
    "print(response['message']['content'])"
   ]
  },
  {
   "cell_type": "code",
   "execution_count": 4,
   "id": "16f8157b-21d9-4fe4-b755-cb87dd7b2856",
   "metadata": {},
   "outputs": [
    {
     "name": "stdout",
     "output_type": "stream",
     "text": [
      "I think a \"history teacher\" would be better suited to answer this question!\n"
     ]
    }
   ],
   "source": [
    "response = ollama.chat(model='llama3', messages=[\n",
    "  { \"role\": \"system\", \"content\": system_prompt},\n",
    "#  { \"role\": \"system\", \"content\": system_prompt2},\n",
    "#  { \"role\": \"system\", \"content\": system_prompt3},\n",
    "#  { \"role\": \"system\", \"content\": system_prompt4},\n",
    "  {\n",
    "    'role': 'user',\n",
    "    'content': 'When was the United States created?',\n",
    "  }\n",
    "])\n",
    "print(response['message']['content'])"
   ]
  },
  {
   "cell_type": "code",
   "execution_count": 5,
   "id": "e6b72f5c-99eb-4f4e-bc8e-49787e376e21",
   "metadata": {},
   "outputs": [
    {
     "name": "stdout",
     "output_type": "stream",
     "text": [
      "Math teacher!\n"
     ]
    }
   ],
   "source": [
    "final_system_prompt = system_prompt + \"\\n\" + one_shot_prompt + '\\n' + two_shot_prompt\n",
    "response = ollama.chat(model='llama3', messages=[\n",
    "  { \"role\": \"system\", \"content\": system_prompt},\n",
    "#  { \"role\": \"system\", \"content\": system_prompt2},\n",
    "#  { \"role\": \"system\", \"content\": system_prompt3},\n",
    "#  { \"role\": \"system\", \"content\": system_prompt4},\n",
    "{\n",
    "    'role': 'user',\n",
    "    'content': 'what is the Newton’s law?',\n",
    "  },\n",
    "])\n",
    "print(response['message']['content'])"
   ]
  },
  {
   "cell_type": "code",
   "execution_count": 6,
   "id": "291f29f3-3950-459c-853a-bd403879239c",
   "metadata": {},
   "outputs": [
    {
     "name": "stdout",
     "output_type": "stream",
     "text": [
      "History request!\n",
      "\n",
      "I think the history teacher would be a good choice for this question.\n"
     ]
    }
   ],
   "source": [
    "final_system_prompt = system_prompt + \"\\n\" + one_shot_prompt + '\\n' + two_shot_prompt + '\\n' + three_shot_prompt\n",
    "response = ollama.chat(model='llama3', messages=[\n",
    "  { \"role\": \"system\", \"content\": system_prompt},\n",
    "#  { \"role\": \"system\", \"content\": system_prompt2},\n",
    "#  { \"role\": \"system\", \"content\": system_prompt3},\n",
    "#  { \"role\": \"system\", \"content\": system_prompt4},\n",
    "{\n",
    "    'role': 'user',\n",
    "    'content': 'How did World War I end?',\n",
    "  },\n",
    "])\n",
    "print(response['message']['content'])"
   ]
  },
  {
   "cell_type": "code",
   "execution_count": 7,
   "id": "d118021d-9cad-4784-9fec-a4e8ed15d5b8",
   "metadata": {},
   "outputs": [
    {
     "name": "stdout",
     "output_type": "stream",
     "text": [
      "History Teacher\n"
     ]
    }
   ],
   "source": [
    "# 6번\n",
    "# 사용자 역할에 적합한 prompt 만들기\n",
    "# https://gist.github.com/cedrickchee/9390389d755e574cca24a2b42aaa7d47\n",
    "# You are a programming expert helping a developer with a technical task. Think step-by-step to craft a detailed answer to the followup question in the context of the existing conversation. Provide examples and code snippets to better illustrate your solution. Don't repeat things you've already mentioned. Use the search results as an optional reference to aid your internal reasoning skills and knowledge to answer the question. Ignore them if they are not relevant. Format your response in Markdown. Split paragraphs with more than two sentences into multiple chunks separated by a newline, and use bullet points to improve clarity. For each paragraph or distinct point, cite which source it came from in the search results. Always use the Markdown URL format, e.g. www.stackoverflow.com. Keep citations with the paragraph or point they are relevant to. Don't use sources that are not in the search results. Don't use footnotes, endnotes, or other citation formats. Write your answer in the same language as the question. If unsure, look to the language used in search results before falling back to the browser language specified. Today's date is: 25.06.2023\n",
    "\n",
    "# 1. 규격 맞춰보기\n",
    "response = ollama.chat(model='llama3', messages=[\n",
    "  { \"role\": \"system\", \"content\": system_prompt},\n",
    "    # 규격 추가\n",
    "  { \"role\": \"user\", \"content\": \"What was the Civil War?\"},\n",
    "  { \"role\": \"assistant\", \"content\": \"History Teacher\"},\n",
    "  { \"role\": \"user\", \"content\": \"What year did the Korean War begin?\"},\n",
    "  { \"role\": \"assistant\", \"content\": \"History Teacher\"},\n",
    "  { \"role\": \"user\", \"content\": \"What is the value of x when 2x + 5 = 15?\"},\n",
    "  { \"role\": \"assistant\", \"content\": \"Math Teacher\"},\n",
    "\n",
    "{\n",
    "    'role': 'user',\n",
    "    'content': 'How did World War I end?',\n",
    "  },\n",
    "])\n",
    "print(response['message']['content'])\n",
    "\n"
   ]
  },
  {
   "cell_type": "code",
   "execution_count": 12,
   "id": "57cf4db1-e4f1-4075-a098-194679a8ea35",
   "metadata": {},
   "outputs": [
    {
     "name": "stdout",
     "output_type": "stream",
     "text": [
      "\n"
     ]
    }
   ],
   "source": [
    "# 2. CoT? 이건 ollama에서 assistant를 넣었을 때 이어서 작성해야 하는건데, chat functions에서 마지막에 assistant면 assistant code가 안들어가도록 세팅이 되어있는지 모른다.\n",
    "response = ollama.chat(model='llama3', messages=[\n",
    "  { \"role\": \"system\", \"content\": system_prompt},\n",
    "    # 규격 추가\n",
    "  { \"role\": \"user\", \"content\": \"What was the Civil War?\"},\n",
    "  { \"role\": \"assistant\", \"content\": \"History Teacher\"},\n",
    "  { \"role\": \"user\", \"content\": \"What year did the Korean War begin?\"},\n",
    "  { \"role\": \"assistant\", \"content\": \"History Teacher\"},\n",
    "  { \"role\": \"user\", \"content\": \"What is the value of x when 2x + 5 = 15?\"},\n",
    "  { \"role\": \"assistant\", \"content\": \"Math Teacher\"},\n",
    "  { 'role': 'user','content': 'How did World War I end?'},\n",
    "  { 'role': \"assistant\", 'content': \"Let's think step by step.\"}\n",
    "])\n",
    "print(response['message']['content'])\n",
    "\n",
    "# 이건 명확하지 않은 것이기 때문에 이렇게 사용하는거다 라고 알고 넘어가는 것이 좋겠다"
   ]
  },
  {
   "cell_type": "code",
   "execution_count": 16,
   "id": "c0935a93-c636-4c03-a6d9-e7683b584da7",
   "metadata": {},
   "outputs": [
    {
     "name": "stdout",
     "output_type": "stream",
     "text": [
      "History Teacher\n"
     ]
    }
   ],
   "source": [
    "# 3. Leaked System Prompts에서 Phind AI programming assistant의 prompt 가져와서 해보기\n",
    "open_system_prompt = \"You're the expert in determining the right teacher for your answer. Think step-by-step to craft your answer to the follow-up question in the context of the existing conversation. Provide examples to better explain why you decided on the right teacher. Don't repeat what you've already said. If it's not relevant, say 'none'. Format your answer with markdown. Break paragraphs longer than two sentences into multiple paragraphs, separated by newlines, and use bullet points for clarity. Write your answer in the same language as the question. When in doubt, determine the most appropriate teacher.\"\n",
    "response = ollama.chat(model='llama3', messages=[\n",
    "  { \"role\": \"system\", \"content\": open_system_prompt},\n",
    "  { \"role\": \"system\", \"content\": system_prompt},\n",
    "    # 규격 추가\n",
    "  { \"role\": \"user\", \"content\": \"What was the Civil War?\"},\n",
    "  { \"role\": \"assistant\", \"content\": \"History Teacher\"},\n",
    "  { \"role\": \"user\", \"content\": \"What year did the Korean War begin?\"},\n",
    "  { \"role\": \"assistant\", \"content\": \"History Teacher\"},\n",
    "  { \"role\": \"user\", \"content\": \"What is the value of x when 2x + 5 = 15?\"},\n",
    "  { \"role\": \"assistant\", \"content\": \"Math Teacher\"},\n",
    "  { 'role': 'user','content': 'How did World War I end?'},\n",
    "])\n",
    "print(response['message']['content'])\n"
   ]
  },
  {
   "cell_type": "code",
   "execution_count": 17,
   "id": "2e2e0fb5-7a53-4862-8182-581122ba35b9",
   "metadata": {},
   "outputs": [
    {
     "name": "stdout",
     "output_type": "stream",
     "text": [
      "**Math Teacher**\n",
      "\n",
      "None. This is a history question, not a math problem. The math teacher is not equipped to provide an answer about historical events like the ending of World War I.\n",
      "\n",
      "**History Teacher**\n",
      "\n",
      "World War I ended with the signing of the Treaty of Versailles on June 28, 1919. The treaty was imposed on Germany by the Allied Powers (France, Great Britain, and Italy) and forced Germany to take responsibility for the war.\n"
     ]
    }
   ],
   "source": [
    "# 3-1. Leaked System Prompts에서 Phind AI programming assistant의 prompt 가져와서 해보기, few_shot 빼기\n",
    "open_system_prompt = \"You're the expert in determining the right teacher for your answer. Think step-by-step to craft your answer to the follow-up question in the context of the existing conversation. Provide examples to better explain why you decided on the right teacher. Don't repeat what you've already said. If it's not relevant, say 'none'. Format your answer with markdown. Break paragraphs longer than two sentences into multiple paragraphs, separated by newlines, and use bullet points for clarity. Write your answer in the same language as the question. When in doubt, determine the most appropriate teacher.\"\n",
    "response = ollama.chat(model='llama3', messages=[\n",
    "  { \"role\": \"system\", \"content\": open_system_prompt},\n",
    "  { \"role\": \"system\", \"content\": system_prompt},\n",
    "    # 규격 추가\n",
    "  { 'role': 'user','content': 'How did World War I end?'},\n",
    "])\n",
    "print(response['message']['content'])\n"
   ]
  },
  {
   "cell_type": "code",
   "execution_count": 36,
   "id": "25a90018-9d40-4264-bea5-fc69ae19311b",
   "metadata": {},
   "outputs": [
    {
     "name": "stdout",
     "output_type": "stream",
     "text": [
      "{'compressed_prompt': \"expert in determining right teacher for answer Think step - by - step to craft answer to follow - up question in context existing conversation Provide examples to explain why decided on right teacher Don ' t repeat what said If not relevant say ' none ' Format answer with markdown. Break paragraphs longer than two sentences into multiple paragraphs separated by newlines use bullet points for clarity Write answer in same language as question. When in doubt determine most appropriate teacher. two teachers select one teacher! math request ' math teacher ' history request ' history teacher ' \\n \\n math teacher keeps answers simple talks in formulas communicates facts in short sentences can only answer math questions. \\n \\n history teacher can solve history problems comparisons to other histories. history teacher can ' t solve math problems. \\n \\n Listen to questions tell which two teachers better to answer \\n \\n If math teacher respond well say ' math teacher\", 'compressed_prompt_list': [\"expert in determining right teacher for answer Think step - by - step to craft answer to follow - up question in context existing conversation Provide examples to explain why decided on right teacher Don ' t repeat what said If not relevant say ' none ' Format answer with markdown. Break paragraphs longer than two sentences into multiple paragraphs separated by newlines use bullet points for clarity Write answer in same language as question. When in doubt determine most appropriate teacher. two teachers select one teacher! math request ' math teacher ' history request ' history teacher ' \\n \\n math teacher keeps answers simple talks in formulas communicates facts in short sentences can only answer math questions. \\n \\n history teacher can solve history problems comparisons to other histories. history teacher can ' t solve math problems. \\n \\n Listen to questions tell which two teachers better to answer \\n \\n If math teacher respond well say ' math teacher\"], 'origin_tokens': 237, 'compressed_tokens': 166, 'ratio': '1.4x', 'rate': '70.0%', 'saving': ', Saving $0.0 in GPT-4.'}\n",
      "**history teacher**\n",
      "\n",
      "World War I ended with the Treaty of Versailles, signed on November 11, 1918. This treaty officially ended the war between Germany and the Allied Powers (France, Britain, Italy, and the United States). The treaty imposed harsh penalties on Germany, including heavy reparations and territorial losses.\n",
      "\n",
      "* The armistice that went into effect on November 11, 1918, effectively ended fighting in World War I.\n",
      "* The Treaty of Versailles was negotiated by the Allied Powers and imposed severe restrictions on Germany's military, economy, and territory.\n",
      "* The treaty's provisions aimed to prevent future wars by establishing the League of Nations and imposing collective security measures.\n",
      "\n",
      "Let me know if you have any further questions!\n"
     ]
    }
   ],
   "source": [
    "# 4. compression \n",
    "# 답이 나오긴 하는데, 짧아졌던 답변이 길어진 느낌??\n",
    "from llmlingua import PromptCompressor\n",
    "\n",
    "## Or use LLMLingua-2-small model\n",
    "llm_lingua = PromptCompressor(\n",
    "    model_name=\"microsoft/llmlingua-2-bert-base-multilingual-cased-meetingbank\",\n",
    "    use_llmlingua2=True, # Whether to use llmlingua-2\n",
    ")\n",
    "\n",
    "compressed_prompt = llm_lingua.compress_prompt(open_system_prompt + system_prompt, rate=0.7, iterative_size=300, force_tokens = ['\\n', '?'])\n",
    "\n",
    "print(compressed_prompt)\n",
    "\n",
    "response = ollama.chat(model='llama3', messages=[\n",
    "  { \"role\": \"system\", \"content\": compressed_prompt['compressed_prompt']},\n",
    "  #{ \"role\": \"system\", \"content\": system_prompt},\n",
    "  { 'role': 'user','content': 'How did World War I end?'},\n",
    "])\n",
    "print(response['message']['content'])"
   ]
  },
  {
   "cell_type": "code",
   "execution_count": 39,
   "id": "90dba956-a140-465a-a333-04a11846a4cd",
   "metadata": {},
   "outputs": [
    {
     "name": "stdout",
     "output_type": "stream",
     "text": [
      "{'compressed_prompt': \"expert in determining right teacher for answer Think step - by - step to craft answer to follow - up question in context existing conversation Provide examples to explain why decided on right teacher Don ' t repeat what said If not relevant say ' none ' Format answer with markdown. Break paragraphs longer than two sentences into multiple paragraphs separated by newlines use bullet points for clarity Write answer in same language as question. When in doubt determine most appropriate teacher. two teachers select one teacher! math request ' math teacher ' history request ' history teacher ' \\n \\n math teacher keeps answers simple talks in formulas communicates facts in short sentences can only answer math questions. \\n \\n history teacher can solve history problems comparisons to other histories. history teacher can ' t solve math problems. \\n \\n Listen to questions tell which two teachers better to answer \\n \\n If math teacher respond well say ' math teacher\", 'compressed_prompt_list': [\"expert in determining right teacher for answer Think step - by - step to craft answer to follow - up question in context existing conversation Provide examples to explain why decided on right teacher Don ' t repeat what said If not relevant say ' none ' Format answer with markdown. Break paragraphs longer than two sentences into multiple paragraphs separated by newlines use bullet points for clarity Write answer in same language as question. When in doubt determine most appropriate teacher. two teachers select one teacher! math request ' math teacher ' history request ' history teacher ' \\n \\n math teacher keeps answers simple talks in formulas communicates facts in short sentences can only answer math questions. \\n \\n history teacher can solve history problems comparisons to other histories. history teacher can ' t solve math problems. \\n \\n Listen to questions tell which two teachers better to answer \\n \\n If math teacher respond well say ' math teacher\"], 'origin_tokens': 237, 'compressed_tokens': 166, 'ratio': '1.4x', 'rate': '70.0%', 'saving': ', Saving $0.0 in GPT-4.'}\n",
      "History Teacher\n"
     ]
    }
   ],
   "source": [
    "# 4. compression + few shot\n",
    "# one shot만 해줘도 짧게 나왔다.\n",
    "from llmlingua import PromptCompressor\n",
    "\n",
    "## Or use LLMLingua-2-small model\n",
    "llm_lingua = PromptCompressor(\n",
    "    model_name=\"microsoft/llmlingua-2-bert-base-multilingual-cased-meetingbank\",\n",
    "    use_llmlingua2=True, # Whether to use llmlingua-2\n",
    ")\n",
    "\n",
    "compressed_prompt = llm_lingua.compress_prompt(open_system_prompt + system_prompt, rate=0.7, iterative_size=300, force_tokens = ['\\n', '?'])\n",
    "\n",
    "print(compressed_prompt)\n",
    "\n",
    "response = ollama.chat(model='llama3', messages=[\n",
    "  { \"role\": \"system\", \"content\": compressed_prompt['compressed_prompt']},\n",
    "      { \"role\": \"user\", \"content\": \"What was the Civil War?\"},\n",
    "  { \"role\": \"assistant\", \"content\": \"History Teacher\"},\n",
    "  #{ \"role\": \"system\", \"content\": system_prompt},\n",
    "  { 'role': 'user','content': 'How did World War I end?'},\n",
    "])\n",
    "print(response['message']['content'])"
   ]
  },
  {
   "cell_type": "code",
   "execution_count": 80,
   "id": "676786d4-742e-4b9f-a102-b7b68f290579",
   "metadata": {},
   "outputs": [],
   "source": [
    "# 7번문제\n",
    "# 1부터 n 까지의 자연 수 중 m 개의 수를 list 를 받아 정렬하는 문제를 LLM 이 잘 풀 수 있도록 다양한 프롬프트 엔지니어링을 시도, 평가해보고 시도한 프롬프트의 테스트 케이스들에 대한 프롬프트별 성공률 및 순위를 작성\n",
    "\n",
    "# 1. 잘 작성된 system prompt 찾기\n",
    "# https://github.com/mathllm/MathCoder/blob/main/data/MATH_1_test_post.jsonl\n",
    "system_prompt = \"You are an AI programming assistant. Think step-by-step to craft your answer to the follow-up question in the context of the existing conversation.\"\n",
    "system_prompt2 = \"Don't repeat what you've already said. I give you a list, you must return a sorted list \"\n",
    "\n",
    "response = ollama.chat(model='llama3', messages=[\n",
    "  { \"role\": \"system\", \"content\": system_prompt},\n",
    "  { \"role\": \"system\", \"content\": system_prompt2},\n",
    "  #{ \"role\": \"system\", \"content\": system_prompt},\n",
    "  { 'role': 'user','content': 'list : [1,6,8,3]'},\n",
    "    {\"role\": \"assistant\", \"content\": \"sort list: [1,3,6,8]\"},\n",
    "    {\"role\": \"user\", \"content\": \"list : [6,3,5,8,9]\"}\n",
    "])"
   ]
  },
  {
   "cell_type": "code",
   "execution_count": 81,
   "id": "1f10f6b8-9ba5-4527-90c8-ff99fc0b40bd",
   "metadata": {},
   "outputs": [
    {
     "name": "stdout",
     "output_type": "stream",
     "text": [
      "sort list: [3,5,6,8,9]\n"
     ]
    }
   ],
   "source": [
    "print(response['message']['content'])"
   ]
  },
  {
   "cell_type": "code",
   "execution_count": null,
   "id": "6e46196a-26fe-4d21-8d73-5bf5b38418c0",
   "metadata": {},
   "outputs": [],
   "source": []
  }
 ],
 "metadata": {
  "kernelspec": {
   "display_name": "Python 3 (ipykernel)",
   "language": "python",
   "name": "python3"
  },
  "language_info": {
   "codemirror_mode": {
    "name": "ipython",
    "version": 3
   },
   "file_extension": ".py",
   "mimetype": "text/x-python",
   "name": "python",
   "nbconvert_exporter": "python",
   "pygments_lexer": "ipython3",
   "version": "3.10.13"
  }
 },
 "nbformat": 4,
 "nbformat_minor": 5
}
